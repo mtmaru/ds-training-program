{
 "cells": [
  {
   "cell_type": "markdown",
   "id": "thousand-timer",
   "metadata": {},
   "source": [
    "# 回帰木 (CART) を実装する"
   ]
  },
  {
   "cell_type": "markdown",
   "id": "administrative-census",
   "metadata": {},
   "source": [
    "---"
   ]
  },
  {
   "cell_type": "markdown",
   "id": "wired-weather",
   "metadata": {},
   "source": [
    "## 実装してみる"
   ]
  },
  {
   "cell_type": "markdown",
   "id": "corresponding-proposal",
   "metadata": {},
   "source": [
    "### 必要なパッケージを読み込む"
   ]
  },
  {
   "cell_type": "code",
   "execution_count": 1,
   "id": "egyptian-split",
   "metadata": {},
   "outputs": [
    {
     "name": "stderr",
     "output_type": "stream",
     "text": [
      "── \u001b[1mAttaching packages\u001b[22m ──────────────────────────────────────────────────────────────────────────────────────────────────────────────────────────────────────────────────────────────────────────────────────────────────────────────────────────── tidyverse 1.3.0 ──\n",
      "\n",
      "\u001b[32m✔\u001b[39m \u001b[34mggplot2\u001b[39m 3.3.3     \u001b[32m✔\u001b[39m \u001b[34mpurrr  \u001b[39m 0.3.4\n",
      "\u001b[32m✔\u001b[39m \u001b[34mtibble \u001b[39m 3.0.6     \u001b[32m✔\u001b[39m \u001b[34mdplyr  \u001b[39m 1.0.4\n",
      "\u001b[32m✔\u001b[39m \u001b[34mtidyr  \u001b[39m 1.1.2     \u001b[32m✔\u001b[39m \u001b[34mstringr\u001b[39m 1.4.0\n",
      "\u001b[32m✔\u001b[39m \u001b[34mreadr  \u001b[39m 1.4.0     \u001b[32m✔\u001b[39m \u001b[34mforcats\u001b[39m 0.5.1\n",
      "\n",
      "── \u001b[1mConflicts\u001b[22m ─────────────────────────────────────────────────────────────────────────────────────────────────────────────────────────────────────────────────────────────────────────────────────────────────────────────────────────────── tidyverse_conflicts() ──\n",
      "\u001b[31m✖\u001b[39m \u001b[34mdplyr\u001b[39m::\u001b[32mfilter()\u001b[39m masks \u001b[34mstats\u001b[39m::filter()\n",
      "\u001b[31m✖\u001b[39m \u001b[34mdplyr\u001b[39m::\u001b[32mlag()\u001b[39m    masks \u001b[34mstats\u001b[39m::lag()\n",
      "\n"
     ]
    }
   ],
   "source": [
    "library(tidyverse)"
   ]
  },
  {
   "cell_type": "markdown",
   "id": "opposed-friendship",
   "metadata": {},
   "source": [
    "### 不純度を求める"
   ]
  },
  {
   "cell_type": "code",
   "execution_count": 2,
   "id": "experimental-marks",
   "metadata": {},
   "outputs": [],
   "source": [
    "# 不純度として分散を用いる\n",
    "calc_variance <-\n",
    "  function(data) {\n",
    "    var(data$y)\n",
    "  }"
   ]
  },
  {
   "cell_type": "markdown",
   "id": "administrative-singer",
   "metadata": {},
   "source": [
    "### 不純度の減り幅を求める"
   ]
  },
  {
   "cell_type": "code",
   "execution_count": 3,
   "id": "turkish-marking",
   "metadata": {},
   "outputs": [],
   "source": [
    "calc_delta <-\n",
    "  function(data, calc_impurity) {\n",
    "    values <- unique(data$x)\n",
    "    thresholds <- (values[2:length(values)] + values[1:(length(values) - 1)]) / 2\n",
    "    map_df(thresholds, calc_delta.sub, data, calc_impurity)\n",
    "  }\n",
    "calc_delta.sub <-\n",
    "  function(threshold, data, calc_impurity) {\n",
    "    left <- data %>% filter(x < threshold)\n",
    "    right <- data %>% filter(threshold <= x)\n",
    "    delta <- calc_impurity(data) - (nrow(left) / nrow(data)) * calc_impurity(left) - (nrow(right) / nrow(data)) * calc_impurity(right)\n",
    "    tibble(threshold = threshold, delta = delta)\n",
    "  }"
   ]
  },
  {
   "cell_type": "markdown",
   "id": "lasting-potato",
   "metadata": {},
   "source": [
    "### 回帰木を作成する"
   ]
  },
  {
   "cell_type": "code",
   "execution_count": 4,
   "id": "primary-chase",
   "metadata": {},
   "outputs": [],
   "source": [
    "cart <-\n",
    "  function(data, max_depth, calc_impurity, depth = 0) {\n",
    "    # 平均を求める\n",
    "    pred <- mean(data$y)\n",
    "    \n",
    "    # 深さが最大値に達した場合、これ以上分割しない\n",
    "    if (depth == max_depth) {\n",
    "      return(list(pred = pred))\n",
    "    }\n",
    "    # 不純度が0の場合、これ以上分割しない\n",
    "    if (calc_impurity(data) == 0) {\n",
    "      return(list(pred = pred))\n",
    "    }\n",
    "    \n",
    "    # 不純度の減り幅が最大となる説明変数と閾値を求める\n",
    "    node <-\n",
    "      # 説明変数別に、該当する説明変数と目的変数の2変数かなるデータフレームを作成する\n",
    "      tibble(variable = setdiff(colnames(data), \"y\")) %>%\n",
    "      mutate(data = map(variable, ~ tibble(x = data[[.]], y = data$y))) %>%\n",
    "      # 説明変数別に、不純度を計算する\n",
    "      mutate(data = map(data, calc_delta, calc_impurity)) %>%\n",
    "      # ネストしているデータフレームを展開し、フラットにする\n",
    "      unnest(cols = c(data)) %>%\n",
    "      # 不純度の減り幅が最大となる説明変数と閾値を取り出す\n",
    "      filter(delta == max(delta))\n",
    "    \n",
    "    # 子ノードを分割する\n",
    "    left <- data[data[[node[[1, \"variable\"]]]] < node[[1, \"threshold\"]], ]\n",
    "    node.left <- cart(left, max_depth, calc_impurity, depth + 1)\n",
    "    right <- data[node[[1, \"threshold\"]] <= data[[node[[1, \"variable\"]]]], ]\n",
    "    node.right <- cart(right, max_depth, calc_impurity, depth + 1)\n",
    "    \n",
    "    list(self = node, left = node.left, right = node.right, pred = pred)\n",
    "  }"
   ]
  },
  {
   "cell_type": "markdown",
   "id": "female-bailey",
   "metadata": {},
   "source": [
    "### 予測する"
   ]
  },
  {
   "cell_type": "code",
   "execution_count": 5,
   "id": "criminal-vitamin",
   "metadata": {},
   "outputs": [],
   "source": [
    "predict <-\n",
    "  function(model, data) {\n",
    "    f <- function(data, model) {\n",
    "      if (length(names(model)) == 1) {\n",
    "        return(model$pred)\n",
    "      }\n",
    "      if (data[[model$self$variable[1]]] < model$self$threshold[1]) {\n",
    "        return(f(data, model$left))\n",
    "      }\n",
    "      else {\n",
    "        return(f(data, model$right))\n",
    "      }\n",
    "    }\n",
    "    \n",
    "    data %>%\n",
    "      pmap(list) %>%\n",
    "      map_dbl(f, model)\n",
    "  }"
   ]
  },
  {
   "cell_type": "markdown",
   "id": "religious-split",
   "metadata": {},
   "source": [
    "---"
   ]
  },
  {
   "cell_type": "markdown",
   "id": "liquid-angola",
   "metadata": {},
   "source": [
    "## 実際にモデルを作ってみる"
   ]
  },
  {
   "cell_type": "markdown",
   "id": "demonstrated-bunch",
   "metadata": {},
   "source": [
    "### サンプルデータを生成する"
   ]
  },
  {
   "cell_type": "code",
   "execution_count": 6,
   "id": "celtic-finger",
   "metadata": {},
   "outputs": [],
   "source": [
    "# 再現性を確保するため、乱数のシードを固定する\n",
    "set.seed(0)\n",
    "\n",
    "# サンプルデータを生成する\n",
    "data <-\n",
    "  tibble(\n",
    "    x = runif(n = 100, min = -1, max = 1) * pi,\n",
    "    y = sin(x) + rnorm(n = 100, mean = 0, sd = 0.1)\n",
    "  )"
   ]
  },
  {
   "cell_type": "code",
   "execution_count": 7,
   "id": "explicit-wales",
   "metadata": {},
   "outputs": [
    {
     "data": {
      "image/png": "[encoded data removed]",
      "text/plain": [
       "plot without title"
      ]
     },
     "metadata": {
      "image/png": {
       "height": 420,
       "width": 420
      }
     },
     "output_type": "display_data"
    }
   ],
   "source": [
    "# サンプルデータを可視化する\n",
    "graph <-\n",
    "  ggplot(data = data, mapping = aes(x = x, y = y)) +\n",
    "  geom_point() +\n",
    "  xlim(-pi, pi) +\n",
    "  ylim(-2, 2)\n",
    "plot(graph)"
   ]
  },
  {
   "cell_type": "markdown",
   "id": "protective-cuisine",
   "metadata": {},
   "source": [
    "### モデルを生成する"
   ]
  },
  {
   "cell_type": "code",
   "execution_count": 8,
   "id": "latter-radical",
   "metadata": {},
   "outputs": [],
   "source": [
    "model <- cart(data = data, max_depth = 2, calc_impurity = calc_variance)"
   ]
  },
  {
   "cell_type": "markdown",
   "id": "indian-might",
   "metadata": {},
   "source": [
    "### モデルを可視化する"
   ]
  },
  {
   "cell_type": "code",
   "execution_count": 9,
   "id": "chubby-confidence",
   "metadata": {},
   "outputs": [
    {
     "name": "stdout",
     "output_type": "stream",
     "text": [
      "List of 4\n",
      " $ self : tibble [1 × 3] (S3: tbl_df/tbl/data.frame)\n",
      "  ..$ variable : chr \"x\"\n",
      "  ..$ threshold: num 0.0427\n",
      "  ..$ delta    : num 0.469\n",
      " $ left :List of 4\n",
      "  ..$ self : tibble [1 × 3] (S3: tbl_df/tbl/data.frame)\n",
      "  .. ..$ variable : chr \"x\"\n",
      "  .. ..$ threshold: num -0.558\n",
      "  .. ..$ delta    : num 0.0548\n",
      "  ..$ left :List of 1\n",
      "  .. ..$ pred: num -0.756\n",
      "  ..$ right:List of 1\n",
      "  .. ..$ pred: num -0.202\n",
      "  ..$ pred : num -0.629\n",
      " $ right:List of 4\n",
      "  ..$ self : tibble [1 × 3] (S3: tbl_df/tbl/data.frame)\n",
      "  .. ..$ variable : chr \"x\"\n",
      "  .. ..$ threshold: num 0.567\n",
      "  .. ..$ delta    : num 0.0212\n",
      "  ..$ left :List of 1\n",
      "  .. ..$ pred: num 0.253\n",
      "  ..$ right:List of 1\n",
      "  .. ..$ pred: num 0.781\n",
      "  ..$ pred : num 0.737\n",
      " $ pred : num 0.0268\n"
     ]
    }
   ],
   "source": [
    "str(model)"
   ]
  },
  {
   "cell_type": "code",
   "execution_count": 10,
   "id": "cleared-dollar",
   "metadata": {},
   "outputs": [
    {
     "data": {
      "image/png": "[encoded data removed]",
      "text/plain": [
       "plot without title"
      ]
     },
     "metadata": {
      "image/png": {
       "height": 420,
       "width": 420
      }
     },
     "output_type": "display_data"
    }
   ],
   "source": [
    "data$predicted <- predict(model, data)\n",
    "graph <-\n",
    "  ggplot() +\n",
    "  geom_point(data = data, mapping = aes(x = x, y = y)) +\n",
    "  geom_point(data = data, mapping = aes(x = x, y = predicted), color = \"red\") +\n",
    "  xlim(-pi, pi) +\n",
    "  ylim(-2, 2)\n",
    "plot(graph)"
   ]
  },
  {
   "cell_type": "markdown",
   "id": "unsigned-selection",
   "metadata": {},
   "source": [
    "---"
   ]
  },
  {
   "cell_type": "markdown",
   "id": "latin-foster",
   "metadata": {},
   "source": [
    "## 参考文献"
   ]
  },
  {
   "cell_type": "markdown",
   "id": "typical-recycling",
   "metadata": {},
   "source": [
    "* [ツリーモデル(木) - Mingzhe Jin’s Home Page](https://www1.doshisha.ac.jp/~mjin/R/Chap_19/19.html)\n",
    "* [決定木アルゴリズムを実装してみる - Pythonと機械学習](http://darden.hatenablog.com/entry/2016/12/15/222447)\n",
    "* [Decision tree learning - Wikipedia](https://en.wikipedia.org/wiki/Decision_tree_learning)"
   ]
  },
  {
   "cell_type": "markdown",
   "id": "surprised-movement",
   "metadata": {},
   "source": [
    "---"
   ]
  },
  {
   "cell_type": "markdown",
   "id": "described-calvin",
   "metadata": {},
   "source": [
    "## 動作環境"
   ]
  },
  {
   "cell_type": "code",
   "execution_count": 11,
   "id": "rational-president",
   "metadata": {},
   "outputs": [
    {
     "data": {
      "text/plain": [
       "R version 3.5.2 (2018-12-20)\n",
       "Platform: x86_64-pc-linux-gnu (64-bit)\n",
       "Running under: Debian GNU/Linux 10 (buster)\n",
       "\n",
       "Matrix products: default\n",
       "BLAS: /usr/lib/x86_64-linux-gnu/blas/libblas.so.3.8.0\n",
       "LAPACK: /usr/lib/x86_64-linux-gnu/lapack/liblapack.so.3.8.0\n",
       "\n",
       "locale:\n",
       " [1] LC_CTYPE=C.UTF-8       LC_NUMERIC=C           LC_TIME=C.UTF-8       \n",
       " [4] LC_COLLATE=C.UTF-8     LC_MONETARY=C.UTF-8    LC_MESSAGES=C.UTF-8   \n",
       " [7] LC_PAPER=C.UTF-8       LC_NAME=C              LC_ADDRESS=C          \n",
       "[10] LC_TELEPHONE=C         LC_MEASUREMENT=C.UTF-8 LC_IDENTIFICATION=C   \n",
       "\n",
       "attached base packages:\n",
       "[1] stats     graphics  grDevices utils     datasets  methods   base     \n",
       "\n",
       "other attached packages:\n",
       "[1] forcats_0.5.1   stringr_1.4.0   dplyr_1.0.4     purrr_0.3.4    \n",
       "[5] readr_1.4.0     tidyr_1.1.2     tibble_3.0.6    ggplot2_3.3.3  \n",
       "[9] tidyverse_1.3.0\n",
       "\n",
       "loaded via a namespace (and not attached):\n",
       " [1] pbdZMQ_0.3-5      tidyselect_1.1.0  repr_1.1.3        haven_2.3.1      \n",
       " [5] colorspace_2.0-0  vctrs_0.3.6       generics_0.1.0    htmltools_0.5.1.1\n",
       " [9] base64enc_0.1-3   rlang_0.4.10      pillar_1.4.7      glue_1.4.2       \n",
       "[13] withr_2.4.1       DBI_1.1.1         dbplyr_2.1.0      modelr_0.1.8     \n",
       "[17] readxl_1.3.1      uuid_0.1-4        lifecycle_0.2.0   munsell_0.5.0    \n",
       "[21] gtable_0.3.0      cellranger_1.1.0  rvest_0.3.6       evaluate_0.14    \n",
       "[25] labeling_0.4.2    ps_1.5.0          broom_0.7.4       IRdisplay_1.0    \n",
       "[29] Rcpp_1.0.6        scales_1.1.1      backports_1.2.1   IRkernel_1.1.1   \n",
       "[33] jsonlite_1.7.2    farver_2.0.3      fs_1.5.0          hms_1.0.0        \n",
       "[37] digest_0.6.27     stringi_1.5.3     grid_3.5.2        cli_2.3.0        \n",
       "[41] tools_3.5.2       magrittr_2.0.1    crayon_1.4.1      pkgconfig_2.0.3  \n",
       "[45] ellipsis_0.3.1    xml2_1.3.2        reprex_1.0.0      lubridate_1.7.9.2\n",
       "[49] assertthat_0.2.1  httr_1.4.2        rstudioapi_0.13   R6_2.5.0         \n",
       "[53] compiler_3.5.2   "
      ]
     },
     "metadata": {},
     "output_type": "display_data"
    }
   ],
   "source": [
    "sessionInfo()"
   ]
  }
 ],
 "metadata": {
  "kernelspec": {
   "display_name": "R",
   "language": "R",
   "name": "ir"
  },
  "language_info": {
   "codemirror_mode": "r",
   "file_extension": ".r",
   "mimetype": "text/x-r-source",
   "name": "R",
   "pygments_lexer": "r",
   "version": "3.5.2"
  }
 },
 "nbformat": 4,
 "nbformat_minor": 5
}
